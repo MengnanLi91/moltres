{
 "cells": [
  {
   "cell_type": "markdown",
   "metadata": {},
   "source": [
    "# Solve 1D advection-diffusion equation with constant source\n",
    "\n",
    "We would like to solve the 1D advection-diffusion equation with a constant source as a precursor to solving the advection-diffusion equation for temperature in a molten salt reactor with a heat source that is a function of the neutron fission distribution. Possible boundary conditions for the temperature might be a Dirichlet condition at the inlet with a zero Neumann condition at the outlet, e.g. all heat flux at the outlet is do to advection. I'll have to check and see if that's consistent with the Cammi paper."
   ]
  },
  {
   "cell_type": "markdown",
   "metadata": {},
   "source": [
    "## Dirichlet conditions at inlet and outlet"
   ]
  },
  {
   "cell_type": "code",
   "execution_count": 1,
   "metadata": {
    "collapsed": false
   },
   "outputs": [
    {
     "data": {
      "text/plain": [
       "x"
      ]
     },
     "execution_count": 1,
     "metadata": {},
     "output_type": "execute_result"
    }
   ],
   "source": [
    "x, _K1, _K2 = var('x _K1 _K2')\n",
    "y = function('y')(x)\n",
    "de = -diff(y,x,2) + diff(y,x) == 1\n",
    "desolve(de, y, [0, 0, 1, 1])"
   ]
  },
  {
   "cell_type": "code",
   "execution_count": null,
   "metadata": {
    "collapsed": false
   },
   "outputs": [],
   "source": [
    "desolve(de, y, [0, 1, 1, 2])"
   ]
  },
  {
   "cell_type": "markdown",
   "metadata": {},
   "source": [
    "## Dirichlet condition at inlet and Neumann zero at outlet"
   ]
  },
  {
   "cell_type": "code",
   "execution_count": 2,
   "metadata": {
    "collapsed": false
   },
   "outputs": [
    {
     "name": "stdout",
     "output_type": "stream",
     "text": [
      "_K1*e^x + _K2 + x + 1\n"
     ]
    }
   ],
   "source": [
    "f = desolve(de, y)\n",
    "print(f)"
   ]
  },
  {
   "cell_type": "code",
   "execution_count": null,
   "metadata": {
    "collapsed": false
   },
   "outputs": [],
   "source": [
    "type(f)"
   ]
  },
  {
   "cell_type": "code",
   "execution_count": null,
   "metadata": {
    "collapsed": false
   },
   "outputs": [],
   "source": [
    "f(10)"
   ]
  },
  {
   "cell_type": "code",
   "execution_count": null,
   "metadata": {
    "collapsed": false
   },
   "outputs": [],
   "source": [
    "f(x=10)"
   ]
  },
  {
   "cell_type": "code",
   "execution_count": 3,
   "metadata": {
    "collapsed": false
   },
   "outputs": [
    {
     "name": "stdout",
     "output_type": "stream",
     "text": [
      "_K1*e^x + 1\n"
     ]
    }
   ],
   "source": [
    "fprime = diff(f,x)\n",
    "print(fprime)\n",
    "\n",
    "solve(fprime == 0, _K1)\n",
    "\n",
    "sol = solve([fprime(x=1) == 0], _K1)\n",
    "\n",
    "g = f.subs(sol[0])\n",
    "print(g)\n",
    "\n",
    "sol2 = solve([g(x=0) == 0], _K2)\n",
    "\n",
    "h = g.subs(sol2[0])\n",
    "print(h)\n",
    "print(h.simplify())\n",
    "print(h.expand())"
   ]
  },
  {
   "cell_type": "code",
   "execution_count": 23,
   "metadata": {
    "collapsed": false
   },
   "outputs": [
    {
     "name": "stdout",
     "output_type": "stream",
     "text": [
      "_K2 + x - e^(x - 1) + 1\n",
      "-(e - 1)*e^(-1) + x - e^(x - 1) + 1\n",
      "-(e - 1)*e^(-1) + x - e^(x - 1) + 1\n",
      "x + e^(-1) - e^(x - 1)\n"
     ]
    }
   ],
   "source": [
    "sol = solve([fprime(x=1) == 0], _K1)\n",
    "\n",
    "g = f.subs(sol[0])\n",
    "print(g)\n",
    "\n",
    "sol2 = solve([g(x=0) == 0], _K2)\n",
    "\n",
    "h = g.subs(sol2[0])\n",
    "print(h)\n",
    "print(h.simplify())\n",
    "print(h.expand())"
   ]
  },
  {
   "cell_type": "code",
   "execution_count": 15,
   "metadata": {
    "collapsed": false
   },
   "outputs": [
    {
     "name": "stdout",
     "output_type": "stream",
     "text": [
      "-e^(x - 1) + 1\n",
      "-e^(x - 1)\n"
     ]
    }
   ],
   "source": [
    "hprime = h.diff(x)\n",
    "hpp = hprime.diff(x)\n",
    "print(hprime)\n",
    "print(hpp)"
   ]
  },
  {
   "cell_type": "code",
   "execution_count": 17,
   "metadata": {
    "collapsed": false
   },
   "outputs": [
    {
     "data": {
      "text/plain": [
       "0"
      ]
     },
     "execution_count": 17,
     "metadata": {},
     "output_type": "execute_result"
    }
   ],
   "source": [
    "-hpp + hprime - 1"
   ]
  },
  {
   "cell_type": "code",
   "execution_count": 18,
   "metadata": {
    "collapsed": false
   },
   "outputs": [
    {
     "name": "stdout",
     "output_type": "stream",
     "text": [
      "-(e - 1)*e^(-1) - e^(-1) + 1\n",
      "0\n"
     ]
    }
   ],
   "source": [
    "print(h(x=0).simplify())\n",
    "print(h(x=0).expand())"
   ]
  },
  {
   "cell_type": "code",
   "execution_count": 21,
   "metadata": {
    "collapsed": false
   },
   "outputs": [
    {
     "name": "stdout",
     "output_type": "stream",
     "text": [
      "-(e - 1)*e^(-1) + 1\n",
      "e^(-1)\n",
      "0.367879441171442\n"
     ]
    }
   ],
   "source": [
    "print(h(x=1))\n",
    "print(h(x=1).expand())\n",
    "print(h(x=1).n())"
   ]
  },
  {
   "cell_type": "code",
   "execution_count": 8,
   "metadata": {
    "collapsed": true
   },
   "outputs": [],
   "source": [
    "p = plot(h, (0, 1))"
   ]
  },
  {
   "cell_type": "code",
   "execution_count": 9,
   "metadata": {
    "collapsed": false
   },
   "outputs": [
    {
     "data": {
      "image/png": "[encoded data removed]",
      "text/plain": [
       "Graphics object consisting of 1 graphics primitive"
      ]
     },
     "metadata": {},
     "output_type": "display_data"
    }
   ],
   "source": [
    "show(p)"
   ]
  },
  {
   "cell_type": "markdown",
   "metadata": {},
   "source": [
    "# Solve with non-constant diffusion coefficient"
   ]
  },
  {
   "cell_type": "code",
   "execution_count": 2,
   "metadata": {
    "collapsed": false
   },
   "outputs": [
    {
     "name": "stdout",
     "output_type": "stream",
     "text": [
      "_K2*x - (x + 1)*log(x + 1) + _K1 + x\n"
     ]
    }
   ],
   "source": [
    "x, _K1, _K2 = var('x _K1 _K2')\n",
    "y = function('y')(x)\n",
    "de = -diff((1 + x) * diff(y, x), x) + diff(y,x) == 1\n",
    "f = desolve(de, y)\n",
    "print(f)"
   ]
  },
  {
   "cell_type": "code",
   "execution_count": 7,
   "metadata": {
    "collapsed": false
   },
   "outputs": [
    {
     "name": "stdout",
     "output_type": "stream",
     "text": [
      "x*log(2) - (x + 1)*log(x + 1) + x\n",
      "x*log(2) - x*log(x + 1) + x - log(x + 1)\n",
      "log(2) - log(x + 1)\n",
      "-1/(x + 1)\n",
      "0\n",
      "0\n",
      "0\n",
      "0.306852819440055\n"
     ]
    }
   ],
   "source": [
    "fprime = diff(f,x)\n",
    "\n",
    "sol = solve([fprime(x=1) == 0], _K2)\n",
    "\n",
    "g = f.subs(sol[0])\n",
    "\n",
    "sol2 = solve([g(x=0) == 0], _K1)\n",
    "\n",
    "h = g.subs(sol2[0])\n",
    "print(h.simplify())\n",
    "print(h.expand())\n",
    "hp = diff(h, x)\n",
    "hpp = diff(hp, x)\n",
    "print(hp)\n",
    "print(hpp)\n",
    "print(h(x=0))\n",
    "print(hp(x=1))\n",
    "print(-diff((1 + x) * diff(h, x), x) + diff(h,x) - 1)\n",
    "print(h(x=1).n())"
   ]
  },
  {
   "cell_type": "code",
   "execution_count": 6,
   "metadata": {
    "collapsed": false
   },
   "outputs": [
    {
     "data": {
      "image/png": "[encoded data removed]",
      "text/plain": [
       "Graphics object consisting of 1 graphics primitive"
      ]
     },
     "metadata": {},
     "output_type": "display_data"
    }
   ],
   "source": [
    "p = plot(h, (0, 1))\n",
    "show(p)"
   ]
  },
  {
   "cell_type": "markdown",
   "metadata": {},
   "source": [
    "## Neumann condition at inlet and outlet"
   ]
  },
  {
   "cell_type": "code",
   "execution_count": 27,
   "metadata": {
    "collapsed": false
   },
   "outputs": [
    {
     "name": "stdout",
     "output_type": "stream",
     "text": [
      "_K2 + x - e^(x - 1) + 1\n"
     ]
    }
   ],
   "source": [
    "sol = solve([fprime(x=1) == 0], _K1)\n",
    "\n",
    "g = f.subs(sol[0])\n",
    "print(g)"
   ]
  },
  {
   "cell_type": "code",
   "execution_count": 29,
   "metadata": {
    "collapsed": false
   },
   "outputs": [
    {
     "name": "stdout",
     "output_type": "stream",
     "text": [
      "-e^(x - 1) + 1\n",
      "0\n"
     ]
    }
   ],
   "source": [
    "gprime = g.diff(x)\n",
    "print(gprime)\n",
    "print(gprime(x=1))"
   ]
  },
  {
   "cell_type": "markdown",
   "metadata": {},
   "source": [
    "As indicated by the cell above and below, it is literally **impossible to impose a Neumann condition at both inlet and outlet** for the advection-diffusion problem because one condition specifies K1, but K2 vanishes after differentiation so it cannot be specified by imposing a Neumann condition. So Riveria must have been smoking some crack when she wrote those two conditions down."
   ]
  },
  {
   "cell_type": "code",
   "execution_count": 25,
   "metadata": {
    "collapsed": false
   },
   "outputs": [
    {
     "ename": "IndexError",
     "evalue": "list index out of range",
     "output_type": "error",
     "traceback": [
      "\u001b[1;31m---------------------------------------------------------------------------\u001b[0m",
      "\u001b[1;31mIndexError\u001b[0m                                Traceback (most recent call last)",
      "\u001b[1;32m<ipython-input-25-c23d33e01eb6>\u001b[0m in \u001b[0;36m<module>\u001b[1;34m()\u001b[0m\n\u001b[0;32m      2\u001b[0m \u001b[0msol2\u001b[0m \u001b[1;33m=\u001b[0m \u001b[0msolve\u001b[0m\u001b[1;33m(\u001b[0m\u001b[1;33m[\u001b[0m\u001b[0mgprime\u001b[0m\u001b[1;33m(\u001b[0m\u001b[0mx\u001b[0m\u001b[1;33m=\u001b[0m\u001b[0mInteger\u001b[0m\u001b[1;33m(\u001b[0m\u001b[1;36m0\u001b[0m\u001b[1;33m)\u001b[0m\u001b[1;33m)\u001b[0m \u001b[1;33m==\u001b[0m \u001b[0mInteger\u001b[0m\u001b[1;33m(\u001b[0m\u001b[1;36m0\u001b[0m\u001b[1;33m)\u001b[0m\u001b[1;33m]\u001b[0m\u001b[1;33m,\u001b[0m \u001b[0m_K2\u001b[0m\u001b[1;33m)\u001b[0m\u001b[1;33m\u001b[0m\u001b[0m\n\u001b[0;32m      3\u001b[0m \u001b[1;33m\u001b[0m\u001b[0m\n\u001b[1;32m----> 4\u001b[1;33m \u001b[0mh\u001b[0m \u001b[1;33m=\u001b[0m \u001b[0mg\u001b[0m\u001b[1;33m.\u001b[0m\u001b[0msubs\u001b[0m\u001b[1;33m(\u001b[0m\u001b[0msol2\u001b[0m\u001b[1;33m[\u001b[0m\u001b[0mInteger\u001b[0m\u001b[1;33m(\u001b[0m\u001b[1;36m0\u001b[0m\u001b[1;33m)\u001b[0m\u001b[1;33m]\u001b[0m\u001b[1;33m)\u001b[0m\u001b[1;33m\u001b[0m\u001b[0m\n\u001b[0m\u001b[0;32m      5\u001b[0m \u001b[1;32mprint\u001b[0m\u001b[1;33m(\u001b[0m\u001b[0mh\u001b[0m\u001b[1;33m)\u001b[0m\u001b[1;33m\u001b[0m\u001b[0m\n\u001b[0;32m      6\u001b[0m \u001b[1;32mprint\u001b[0m\u001b[1;33m(\u001b[0m\u001b[0mh\u001b[0m\u001b[1;33m.\u001b[0m\u001b[0msimplify\u001b[0m\u001b[1;33m(\u001b[0m\u001b[1;33m)\u001b[0m\u001b[1;33m)\u001b[0m\u001b[1;33m\u001b[0m\u001b[0m\n",
      "\u001b[1;32m/usr/lib/sagemath/local/lib/python2.7/site-packages/sage/structure/sequence.pyc\u001b[0m in \u001b[0;36m__getitem__\u001b[1;34m(self, n)\u001b[0m\n\u001b[0;32m    529\u001b[0m                             cr = self.__cr)\n\u001b[0;32m    530\u001b[0m         \u001b[1;32melse\u001b[0m\u001b[1;33m:\u001b[0m\u001b[1;33m\u001b[0m\u001b[0m\n\u001b[1;32m--> 531\u001b[1;33m             \u001b[1;32mreturn\u001b[0m \u001b[0mlist\u001b[0m\u001b[1;33m.\u001b[0m\u001b[0m__getitem__\u001b[0m\u001b[1;33m(\u001b[0m\u001b[0mself\u001b[0m\u001b[1;33m,\u001b[0m\u001b[0mn\u001b[0m\u001b[1;33m)\u001b[0m\u001b[1;33m\u001b[0m\u001b[0m\n\u001b[0m\u001b[0;32m    532\u001b[0m \u001b[1;33m\u001b[0m\u001b[0m\n\u001b[0;32m    533\u001b[0m     \u001b[1;31m# We have to define the *slice functions as long as Sage uses Python 2.*\u001b[0m\u001b[1;33m\u001b[0m\u001b[1;33m\u001b[0m\u001b[0m\n",
      "\u001b[1;31mIndexError\u001b[0m: list index out of range"
     ]
    }
   ],
   "source": [
    "sol2 = solve([gprime(x=0) == 0], _K2)\n",
    "\n",
    "h = g.subs(sol2[0])\n",
    "print(h)\n",
    "print(h.simplify())\n",
    "print(h.expand())"
   ]
  },
  {
   "cell_type": "markdown",
   "metadata": {},
   "source": [
    "# Advection-diffusion equation, no source, InletBC"
   ]
  },
  {
   "cell_type": "code",
   "execution_count": 8,
   "metadata": {
    "collapsed": false
   },
   "outputs": [
    {
     "name": "stdout",
     "output_type": "stream",
     "text": [
      "_K1*e^x + _K2\n"
     ]
    }
   ],
   "source": [
    "x, _K1, _K2 = var('x _K1 _K2')\n",
    "y = function('y')(x)\n",
    "de = -diff(y,x,2) + diff(y,x) == 0\n",
    "f = desolve(de, y)\n",
    "print(f)"
   ]
  },
  {
   "cell_type": "code",
   "execution_count": 10,
   "metadata": {
    "collapsed": false
   },
   "outputs": [
    {
     "name": "stdout",
     "output_type": "stream",
     "text": [
      "_K1*e^x\n",
      "-1/2*_K2*e^(x - 1) + _K2\n"
     ]
    }
   ],
   "source": [
    "fprime = diff(f, x)\n",
    "print(fprime)\n",
    "sol = solve(-fprime(x=1) == f(x=1), _K1)\n",
    "g = f.subs(sol[0])\n",
    "print(g)"
   ]
  },
  {
   "cell_type": "code",
   "execution_count": 16,
   "metadata": {
    "collapsed": false
   },
   "outputs": [
    {
     "name": "stdout",
     "output_type": "stream",
     "text": [
      "-e^(x - 1) + 2\n",
      "1.63212055882856\n",
      "1.00000000000000\n"
     ]
    }
   ],
   "source": [
    "gp = diff(g, x)\n",
    "sol = solve(gp(x=0) - g(x=0) == -2, _K2)\n",
    "h = g.subs(sol[0])\n",
    "print(h)\n",
    "print(h(x=0).n())\n",
    "print(h(x=1).n())"
   ]
  },
  {
   "cell_type": "code",
   "execution_count": 15,
   "metadata": {
    "collapsed": false
   },
   "outputs": [
    {
     "data": {
      "image/png": "[encoded data removed]",
      "text/plain": [
       "Graphics object consisting of 1 graphics primitive"
      ]
     },
     "metadata": {},
     "output_type": "display_data"
    }
   ],
   "source": [
    "p = plot(h, (0,1))\n",
    "show(p)"
   ]
  },
  {
   "cell_type": "markdown",
   "metadata": {},
   "source": [
    "# Advection-diffusion equation, no source, u(0) = 1, -u'(1) = u(1)\n",
    "### Corresponds to `advection_diffusion_left_diri_one_right_robin_bc.i`"
   ]
  },
  {
   "cell_type": "markdown",
   "metadata": {},
   "source": [
    "## a = 1"
   ]
  },
  {
   "cell_type": "code",
   "execution_count": 17,
   "metadata": {
    "collapsed": false
   },
   "outputs": [
    {
     "name": "stdout",
     "output_type": "stream",
     "text": [
      "_K1*e^x + _K2\n"
     ]
    }
   ],
   "source": [
    "x, _K1, _K2 = var('x _K1 _K2')\n",
    "y = function('y')(x)\n",
    "de = -diff(y,x,2) + diff(y,x) == 0\n",
    "f = desolve(de, y)\n",
    "print(f)"
   ]
  },
  {
   "cell_type": "code",
   "execution_count": 18,
   "metadata": {
    "collapsed": false
   },
   "outputs": [
    {
     "name": "stdout",
     "output_type": "stream",
     "text": [
      "_K1*e^x\n",
      "-1/2*_K2*e^(x - 1) + _K2\n"
     ]
    }
   ],
   "source": [
    "fprime = diff(f, x)\n",
    "print(fprime)\n",
    "sol = solve(-fprime(x=1) == f(x=1), _K1)\n",
    "g = f.subs(sol[0])\n",
    "print(g)"
   ]
  },
  {
   "cell_type": "code",
   "execution_count": 19,
   "metadata": {
    "collapsed": false
   },
   "outputs": [
    {
     "name": "stdout",
     "output_type": "stream",
     "text": [
      "2*e/(2*e - 1) - e^x/(2*e - 1)\n",
      "1.00000000000000\n",
      "0.612699836780282\n"
     ]
    }
   ],
   "source": [
    "gp = diff(g, x)\n",
    "sol = solve(g(x=0) == 1, _K2)\n",
    "h = g.subs(sol[0])\n",
    "print(h)\n",
    "print(h(x=0).n())\n",
    "print(h(x=1).n())"
   ]
  },
  {
   "cell_type": "code",
   "execution_count": 20,
   "metadata": {
    "collapsed": false
   },
   "outputs": [
    {
     "data": {
      "image/png": "[encoded data removed]",
      "text/plain": [
       "Graphics object consisting of 1 graphics primitive"
      ]
     },
     "metadata": {},
     "output_type": "display_data"
    }
   ],
   "source": [
    "p = plot(h, (0,1))\n",
    "show(p)"
   ]
  },
  {
   "cell_type": "markdown",
   "metadata": {},
   "source": [
    "## a = 100"
   ]
  },
  {
   "cell_type": "code",
   "execution_count": 21,
   "metadata": {
    "collapsed": false
   },
   "outputs": [
    {
     "name": "stdout",
     "output_type": "stream",
     "text": [
      "_K1*e^(100*x) + _K2\n"
     ]
    }
   ],
   "source": [
    "x, _K1, _K2 = var('x _K1 _K2')\n",
    "y = function('y')(x)\n",
    "de = -diff(y,x,2) + 100 * diff(y,x) == 0\n",
    "f = desolve(de, y)\n",
    "print(f)"
   ]
  },
  {
   "cell_type": "code",
   "execution_count": 22,
   "metadata": {
    "collapsed": false
   },
   "outputs": [
    {
     "name": "stdout",
     "output_type": "stream",
     "text": [
      "100*_K1*e^(100*x)\n",
      "-1/101*_K2*e^(100*x - 100) + _K2\n"
     ]
    }
   ],
   "source": [
    "fprime = diff(f, x)\n",
    "print(fprime)\n",
    "sol = solve(-fprime(x=1) == f(x=1), _K1)\n",
    "g = f.subs(sol[0])\n",
    "print(g)"
   ]
  },
  {
   "cell_type": "code",
   "execution_count": 23,
   "metadata": {
    "collapsed": false
   },
   "outputs": [
    {
     "name": "stdout",
     "output_type": "stream",
     "text": [
      "101*e^100/(101*e^100 - 1) - e^(100*x)/(101*e^100 - 1)\n",
      "1.00000000000000\n",
      "0.990099009900990\n"
     ]
    }
   ],
   "source": [
    "gp = diff(g, x)\n",
    "sol = solve(g(x=0) == 1, _K2)\n",
    "h = g.subs(sol[0])\n",
    "print(h)\n",
    "print(h(x=0).n())\n",
    "print(h(x=1).n())"
   ]
  },
  {
   "cell_type": "code",
   "execution_count": 24,
   "metadata": {
    "collapsed": false
   },
   "outputs": [
    {
     "data": {
      "image/png": "[encoded data removed]",
      "text/plain": [
       "Graphics object consisting of 1 graphics primitive"
      ]
     },
     "metadata": {},
     "output_type": "display_data"
    }
   ],
   "source": [
    "p = plot(h, (0,1))\n",
    "show(p)"
   ]
  },
  {
   "cell_type": "markdown",
   "metadata": {},
   "source": [
    "In order to reproduce the analytical solution using Moltres, it is essential to add the InflowBC boundary condition on the inlet boundary for cases where advection is dominant. Here is the Moltres solution without the InflowBC:\n",
    "\n",
    "![caption](files/without_inflow_bc_component.png)\n",
    "\n",
    "and here is the Moltres solution with the InflowBC:\n",
    "\n",
    "![caption](files/with_inflow_bc_component.png)\n",
    "\n",
    "This undershoot behavior in the former case is what I was observing in my temperature simulations. Glad we are getting an understanding now!"
   ]
  },
  {
   "cell_type": "markdown",
   "metadata": {},
   "source": [
    "# Scratch"
   ]
  },
  {
   "cell_type": "code",
   "execution_count": null,
   "metadata": {
    "collapsed": false
   },
   "outputs": [],
   "source": [
    "fprime(x=1)"
   ]
  },
  {
   "cell_type": "code",
   "execution_count": null,
   "metadata": {
    "collapsed": false
   },
   "outputs": [],
   "source": [
    "expr = (fprime(x=1) - 1) / e\n",
    "print(expr)"
   ]
  },
  {
   "cell_type": "code",
   "execution_count": null,
   "metadata": {
    "collapsed": false
   },
   "outputs": [],
   "source": [
    "type(expr)"
   ]
  },
  {
   "cell_type": "code",
   "execution_count": null,
   "metadata": {
    "collapsed": false
   },
   "outputs": [],
   "source": [
    "type(x)"
   ]
  },
  {
   "cell_type": "code",
   "execution_count": null,
   "metadata": {
    "collapsed": false
   },
   "outputs": [],
   "source": [
    "x = var('x')\n",
    "type(x)"
   ]
  },
  {
   "cell_type": "code",
   "execution_count": null,
   "metadata": {
    "collapsed": true
   },
   "outputs": [],
   "source": [
    "_K1, K1 = var('_K1 K1')"
   ]
  },
  {
   "cell_type": "code",
   "execution_count": null,
   "metadata": {
    "collapsed": false
   },
   "outputs": [],
   "source": [
    "solve(expr, _K1)"
   ]
  },
  {
   "cell_type": "code",
   "execution_count": null,
   "metadata": {
    "collapsed": true
   },
   "outputs": [],
   "source": []
  }
 ],
 "metadata": {
  "kernelspec": {
   "display_name": "SageMath 7.3",
   "language": "",
   "name": "sagemath"
  },
  "language_info": {
   "codemirror_mode": {
    "name": "ipython",
    "version": 2
   },
   "file_extension": ".py",
   "mimetype": "text/x-python",
   "name": "python",
   "nbconvert_exporter": "python",
   "pygments_lexer": "ipython2",
   "version": "2.7.10"
  }
 },
 "nbformat": 4,
 "nbformat_minor": 0
}
